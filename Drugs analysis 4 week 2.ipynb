{
 "cells": [
  {
   "cell_type": "code",
   "execution_count": 1,
   "id": "fabe14ed-6cfd-4432-8df7-df98cda9989e",
   "metadata": {},
   "outputs": [],
   "source": [
    "import drugs\n",
    "report = drugs.get_report()"
   ]
  },
  {
   "cell_type": "code",
   "execution_count": 1,
   "id": "d1146999-76e8-48b9-898f-e171e0d852a6",
   "metadata": {
    "tags": []
   },
   "outputs": [],
   "source": [
    "report"
   ]
  },
  {
   "cell_type": "code",
   "execution_count": null,
   "id": "bae60896-bddd-44d8-8309-267d5e747604",
   "metadata": {},
   "outputs": [],
   "source": []
  },
  {
   "cell_type": "code",
   "execution_count": null,
   "id": "a3774066-426b-4f0a-afc7-1fff28a60135",
   "metadata": {},
   "outputs": [],
   "source": []
  },
  {
   "cell_type": "code",
   "execution_count": 5,
   "id": "9a3c8bf2-2c8e-4a7d-9f8e-702b2676d1c6",
   "metadata": {},
   "outputs": [
    {
     "data": {
      "text/plain": [
       "867"
      ]
     },
     "execution_count": 5,
     "metadata": {},
     "output_type": "execute_result"
    }
   ],
   "source": [
    "len(report)"
   ]
  },
  {
   "cell_type": "code",
   "execution_count": 6,
   "id": "80baf071-8a3c-48f4-afa8-78ae60e73d6e",
   "metadata": {},
   "outputs": [
    {
     "data": {
      "text/plain": [
       "list"
      ]
     },
     "execution_count": 6,
     "metadata": {},
     "output_type": "execute_result"
    }
   ],
   "source": [
    "type(report)"
   ]
  },
  {
   "cell_type": "code",
   "execution_count": null,
   "id": "85bea282-c05b-4f2f-9767-768b3aec1b2e",
   "metadata": {},
   "outputs": [],
   "source": [
    "#mathematical operation portion of the assignment"
   ]
  },
  {
   "cell_type": "code",
   "execution_count": 10,
   "id": "0998cfac-7033-4e5b-8a52-622e6a40b106",
   "metadata": {},
   "outputs": [
    {
     "data": {
      "text/plain": [
       "dict_keys(['State', 'Year', 'Population', 'Totals', 'Rates'])"
      ]
     },
     "execution_count": 10,
     "metadata": {},
     "output_type": "execute_result"
    }
   ],
   "source": [
    "report[0].keys()"
   ]
  },
  {
   "cell_type": "code",
   "execution_count": 15,
   "id": "f770e9e7-702c-43c9-807b-8c12d9e4998b",
   "metadata": {},
   "outputs": [
    {
     "data": {
      "text/plain": [
       "{'Alcohol': {'Use Disorder Past Year': {'12-17': 18, '18-25': 68, '26+': 138},\n",
       "  'Use Past Month': {'12-17': 57, '18-25': 254, '26+': 1048}},\n",
       " 'Tobacco': {'Cigarette Past Month': {'12-17': 52, '18-25': 196, '26+': 728},\n",
       "  'Use Past Month': {'12-17': 63, '18-25': 226, '26+': 930}},\n",
       " 'Illicit Drugs': {'Cocaine Used Past Year': {'12-17': 6,\n",
       "   '18-25': 27,\n",
       "   '26+': 49}},\n",
       " 'Marijuana': {'New Users': {'12-17': 20, '18-25': 18, '26+': 2},\n",
       "  'Used Past Month': {'12-17': 24, '18-25': 62, '26+': 73},\n",
       "  'Used Past Year': {'12-17': 49, '18-25': 119, '26+': 141}}}"
      ]
     },
     "execution_count": 15,
     "metadata": {},
     "output_type": "execute_result"
    }
   ],
   "source": [
    "report[0]['Totals']"
   ]
  },
  {
   "cell_type": "code",
   "execution_count": 16,
   "id": "6f9e4e67-cdf4-4dae-98e7-b7260e179865",
   "metadata": {},
   "outputs": [
    {
     "data": {
      "text/plain": [
       "{'New Users': {'12-17': 20, '18-25': 18, '26+': 2},\n",
       " 'Used Past Month': {'12-17': 24, '18-25': 62, '26+': 73},\n",
       " 'Used Past Year': {'12-17': 49, '18-25': 119, '26+': 141}}"
      ]
     },
     "execution_count": 16,
     "metadata": {},
     "output_type": "execute_result"
    }
   ],
   "source": [
    "report[0]['Totals']['Marijuana']"
   ]
  },
  {
   "cell_type": "code",
   "execution_count": 17,
   "id": "a4ceeced-edde-44a1-940c-1b54534bb6df",
   "metadata": {},
   "outputs": [
    {
     "data": {
      "text/plain": [
       "{'12-17': 24, '18-25': 62, '26+': 73}"
      ]
     },
     "execution_count": 17,
     "metadata": {},
     "output_type": "execute_result"
    }
   ],
   "source": [
    "report[0]['Totals']['Marijuana']['Used Past Month']"
   ]
  },
  {
   "cell_type": "code",
   "execution_count": 18,
   "id": "8a62f88e-8c4e-4be5-8c4e-0fa0c2b1c0df",
   "metadata": {},
   "outputs": [
    {
     "data": {
      "text/plain": [
       "24"
      ]
     },
     "execution_count": 18,
     "metadata": {},
     "output_type": "execute_result"
    }
   ],
   "source": [
    "report[0]['Totals']['Marijuana']['Used Past Month']['12-17']"
   ]
  },
  {
   "cell_type": "code",
   "execution_count": null,
   "id": "15b289a4-dc0e-40ed-a346-229573fb85ca",
   "metadata": {},
   "outputs": [],
   "source": [
    "#Here lies the mathematical operation\n",
    "#To get the population of individuals that used marijuana in the past month\n",
    "#Between the yrs of 12-17 in addition to 18-25"
   ]
  },
  {
   "cell_type": "code",
   "execution_count": 20,
   "id": "f659ec5c-6948-4dd3-ac76-571957ce3f7a",
   "metadata": {},
   "outputs": [
    {
     "data": {
      "text/plain": [
       "86"
      ]
     },
     "execution_count": 20,
     "metadata": {},
     "output_type": "execute_result"
    }
   ],
   "source": [
    "report[0]['Totals']['Marijuana']['Used Past Month']['12-17']+report[0]['Totals']['Marijuana']['Used Past Month']['18-25']"
   ]
  },
  {
   "cell_type": "code",
   "execution_count": null,
   "id": "207f0c2e-b1c4-4691-9234-c471c0369ae9",
   "metadata": {},
   "outputs": [],
   "source": [
    "#conditional operation of assignment"
   ]
  },
  {
   "cell_type": "code",
   "execution_count": 29,
   "id": "4385753d-44b2-4722-82a6-073678b08228",
   "metadata": {},
   "outputs": [
    {
     "name": "stdout",
     "output_type": "stream",
     "text": [
      "5\n"
     ]
    }
   ],
   "source": [
    "if report[0]['Totals']['Marijuana']['Used Past Month']['12-17']>100:\n",
    "    print('The number of marijuana users between the ages of 12-17 was greater than 100 the past month')\n",
    "print(5)    "
   ]
  },
  {
   "cell_type": "code",
   "execution_count": null,
   "id": "8b5da11f-3b16-4681-877d-fdd7a92462ec",
   "metadata": {},
   "outputs": [],
   "source": [
    "#since the statement isn't true it did not print\n",
    "#To see if the cell runs print a print command behind the indentation of the previous false statement\n",
    "#This is why print(5) is there\n",
    "#Also notice the syntax in the conditional command. You need a \":\" right before you summon print."
   ]
  },
  {
   "cell_type": "code",
   "execution_count": 30,
   "id": "d932f0b4-2a1b-48d1-bb01-157fdd531139",
   "metadata": {},
   "outputs": [
    {
     "name": "stdout",
     "output_type": "stream",
     "text": [
      "The number of marijuana users between the ages of 12-17 was less than 100 the past month\n"
     ]
    }
   ],
   "source": [
    "if report[0]['Totals']['Marijuana']['Used Past Month']['12-17']<100:\n",
    "    print('The number of marijuana users between the ages of 12-17 was less than 100 the past month')"
   ]
  },
  {
   "cell_type": "code",
   "execution_count": null,
   "id": "f7e9b22c-c3d6-402b-b387-26c8e9883431",
   "metadata": {},
   "outputs": [],
   "source": [
    "#The above statement is true, due to this it actually printed!!"
   ]
  },
  {
   "cell_type": "code",
   "execution_count": null,
   "id": "f1010bcc-e2d0-409f-8966-7351ca78cf24",
   "metadata": {},
   "outputs": [],
   "source": []
  },
  {
   "cell_type": "code",
   "execution_count": null,
   "id": "86625d69-704b-4c4f-8b2d-e85c59903aae",
   "metadata": {},
   "outputs": [],
   "source": [
    "#This is the for loop portion of the assignment"
   ]
  },
  {
   "cell_type": "code",
   "execution_count": 33,
   "id": "591535ee-279d-42b0-8b2d-b81ec055f583",
   "metadata": {},
   "outputs": [
    {
     "name": "stdout",
     "output_type": "stream",
     "text": [
      "12-17\n",
      "18-25\n",
      "26+\n"
     ]
    }
   ],
   "source": [
    "for x in report[0]['Population']:\n",
    "    print(x)"
   ]
  },
  {
   "cell_type": "code",
   "execution_count": null,
   "id": "d1a21a97-1c9c-4951-a90c-fa52d10decd7",
   "metadata": {},
   "outputs": [],
   "source": [
    "#Remember Population is case sensitive. In a for loop you need to use a \":\" before you summon print."
   ]
  },
  {
   "cell_type": "code",
   "execution_count": 45,
   "id": "9709ccf8-82e7-49e2-8c3a-4f958a1cf270",
   "metadata": {},
   "outputs": [
    {
     "name": "stdout",
     "output_type": "stream",
     "text": [
      "12-17\n",
      "18-25\n",
      "26+\n"
     ]
    }
   ],
   "source": [
    "for x in report[0]['Population']:\n",
    "    print(x)"
   ]
  },
  {
   "cell_type": "code",
   "execution_count": 42,
   "id": "bfcf89c0-f9b5-4ed3-ab47-d588a5d98b31",
   "metadata": {},
   "outputs": [
    {
     "data": {
      "text/plain": [
       "dict_keys(['State', 'Year', 'Population', 'Totals', 'Rates'])"
      ]
     },
     "execution_count": 42,
     "metadata": {},
     "output_type": "execute_result"
    }
   ],
   "source": [
    "report[0].keys()\n",
    "#This is the code I run to see which keys are in the report"
   ]
  },
  {
   "cell_type": "code",
   "execution_count": 48,
   "id": "3405b192-54d4-4a9d-a4fc-8079a3fc6e32",
   "metadata": {},
   "outputs": [
    {
     "name": "stdout",
     "output_type": "stream",
     "text": [
      "Alcohol\n",
      "Tobacco\n",
      "Illicit Drugs\n",
      "Marijuana\n"
     ]
    }
   ],
   "source": [
    "for x in report[0]['Totals']:\n",
    "    print(x)"
   ]
  },
  {
   "cell_type": "code",
   "execution_count": null,
   "id": "5723775d-78d7-400b-96f1-8b2f4821a335",
   "metadata": {},
   "outputs": [],
   "source": []
  },
  {
   "cell_type": "code",
   "execution_count": null,
   "id": "0c0f8d92-04c7-4318-9d48-c3546a2ae631",
   "metadata": {},
   "outputs": [],
   "source": [
    "#This is the function portion of the assignment"
   ]
  },
  {
   "cell_type": "code",
   "execution_count": 80,
   "id": "523cacfa-eb3c-46b4-9166-41a05292d0ac",
   "metadata": {},
   "outputs": [],
   "source": [
    "def printrates(element):\n",
    "    for x in report[element]['Rates']:\n",
    "        print(x)"
   ]
  },
  {
   "cell_type": "code",
   "execution_count": 81,
   "id": "4baec007-ead2-431f-94a4-0a5f0360a6f3",
   "metadata": {},
   "outputs": [
    {
     "name": "stdout",
     "output_type": "stream",
     "text": [
      "Alcohol\n",
      "Tobacco\n",
      "Illicit Drugs\n",
      "Marijuana\n"
     ]
    }
   ],
   "source": [
    "printrates(0)"
   ]
  },
  {
   "cell_type": "code",
   "execution_count": 82,
   "id": "05b8fe1f-eb14-40dd-a84d-37e27cd2baf8",
   "metadata": {},
   "outputs": [
    {
     "name": "stdout",
     "output_type": "stream",
     "text": [
      "Alcohol\n",
      "Tobacco\n",
      "Illicit Drugs\n",
      "Marijuana\n"
     ]
    }
   ],
   "source": [
    "printrates(1)"
   ]
  },
  {
   "cell_type": "code",
   "execution_count": null,
   "id": "28d68a12-83eb-4c99-9447-72557784a5d2",
   "metadata": {},
   "outputs": [],
   "source": []
  },
  {
   "cell_type": "code",
   "execution_count": 83,
   "id": "577b2e04-9356-4416-85ce-00a31c5572f6",
   "metadata": {},
   "outputs": [],
   "source": [
    "def printpopulation(element):\n",
    "    for x in report[element]['Population']:\n",
    "        print(x)"
   ]
  },
  {
   "cell_type": "code",
   "execution_count": 84,
   "id": "b0c90c37-46dc-4728-b0f6-f6934de5187c",
   "metadata": {},
   "outputs": [
    {
     "name": "stdout",
     "output_type": "stream",
     "text": [
      "12-17\n",
      "18-25\n",
      "26+\n"
     ]
    }
   ],
   "source": [
    "printpopulation(0)"
   ]
  },
  {
   "cell_type": "code",
   "execution_count": 85,
   "id": "34a58558-2fc5-4540-a2e9-b7d7a6970f10",
   "metadata": {},
   "outputs": [
    {
     "name": "stdout",
     "output_type": "stream",
     "text": [
      "12-17\n",
      "18-25\n",
      "26+\n"
     ]
    }
   ],
   "source": [
    "printpopulation(2)"
   ]
  },
  {
   "cell_type": "code",
   "execution_count": null,
   "id": "01ee602f-c412-4807-9497-5b4c0ae9016e",
   "metadata": {},
   "outputs": [],
   "source": []
  },
  {
   "cell_type": "code",
   "execution_count": 97,
   "id": "0e5bb532-1e37-4491-be04-32c9fd915dfe",
   "metadata": {},
   "outputs": [],
   "source": [
    "def printstate(element):\n",
    "    for x in report[element]['State']:\n",
    "        print(x)"
   ]
  },
  {
   "cell_type": "code",
   "execution_count": 98,
   "id": "736dc074-fcf5-4790-b8de-6d6e8e1a205b",
   "metadata": {},
   "outputs": [
    {
     "name": "stdout",
     "output_type": "stream",
     "text": [
      "A\n",
      "l\n",
      "a\n",
      "b\n",
      "a\n",
      "m\n",
      "a\n"
     ]
    }
   ],
   "source": [
    "printstate(0)"
   ]
  },
  {
   "cell_type": "code",
   "execution_count": null,
   "id": "807b331b-18ef-4a9c-8e94-ebbe585b0982",
   "metadata": {},
   "outputs": [],
   "source": [
    "#This looks weird so the printstate function needs to be written in another way."
   ]
  },
  {
   "cell_type": "code",
   "execution_count": 100,
   "id": "1f1866c4-2218-4a8a-bd29-434f1b599bca",
   "metadata": {},
   "outputs": [],
   "source": [
    "def betterprintstate(element):\n",
    "    print(report[element]['State'])\n",
    "#This is an aestetically better way to create this function"
   ]
  },
  {
   "cell_type": "code",
   "execution_count": 101,
   "id": "c888acc7-1fdf-4de5-b9e0-cb83ee4cb64b",
   "metadata": {},
   "outputs": [
    {
     "name": "stdout",
     "output_type": "stream",
     "text": [
      "Alabama\n"
     ]
    }
   ],
   "source": [
    "betterprintstate(0)"
   ]
  },
  {
   "cell_type": "code",
   "execution_count": 102,
   "id": "0090eb36-fe9f-444b-a901-6b3915391759",
   "metadata": {},
   "outputs": [
    {
     "name": "stdout",
     "output_type": "stream",
     "text": [
      "Hawaii\n"
     ]
    }
   ],
   "source": [
    "betterprintstate(11)"
   ]
  },
  {
   "cell_type": "code",
   "execution_count": null,
   "id": "555dae15-b7cd-481e-8c61-8b35ad9a56af",
   "metadata": {},
   "outputs": [],
   "source": []
  }
 ],
 "metadata": {
  "kernelspec": {
   "display_name": "Python 3 (ipykernel)",
   "language": "python",
   "name": "python3"
  },
  "language_info": {
   "codemirror_mode": {
    "name": "ipython",
    "version": 3
   },
   "file_extension": ".py",
   "mimetype": "text/x-python",
   "name": "python",
   "nbconvert_exporter": "python",
   "pygments_lexer": "ipython3",
   "version": "3.9.6"
  }
 },
 "nbformat": 4,
 "nbformat_minor": 5
}
